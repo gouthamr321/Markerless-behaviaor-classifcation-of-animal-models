{
 "cells": [
  {
   "cell_type": "markdown",
   "metadata": {},
   "source": [
    "# DeepLabCut SetUp"
   ]
  },
  {
   "cell_type": "markdown",
   "metadata": {},
   "source": [
    "Here we are setting up for our DeepLabCut implimentation. The output of this section will be a config file (config.yaml) that we will use in the DeepLabCut implimentation section where we will get the marker predictions. "
   ]
  },
  {
   "cell_type": "code",
   "execution_count": null,
   "metadata": {},
   "outputs": [],
   "source": [
    "#in termial go to the folder where you downloaded DeepLabCut\n",
    "#cd /Users/YourUserName/folder/\n",
    "cd /Users/dowlettealameldin/deeplabcut/"
   ]
  },
  {
   "cell_type": "markdown",
   "metadata": {},
   "source": [
    "Activate the name of the enviroment you created "
   ]
  },
  {
   "cell_type": "code",
   "execution_count": null,
   "metadata": {},
   "outputs": [],
   "source": [
    "#for MacOS or Ubuntu source/conda activate nameoftheenv \n",
    "source activate DLC-CPU\n",
    "#for windows\n",
    "activate DLC-CPU\n"
   ]
  },
  {
   "cell_type": "code",
   "execution_count": null,
   "metadata": {},
   "outputs": [],
   "source": [
    "#enter this directly in terminal\n",
    "ipython\n",
    "\n",
    "#or \n",
    "\n",
    "pythonw\n"
   ]
  },
  {
   "cell_type": "markdown",
   "metadata": {},
   "source": [
    "Now import DeepLabCut so we can begin the setup. "
   ]
  },
  {
   "cell_type": "code",
   "execution_count": null,
   "metadata": {},
   "outputs": [],
   "source": [
    "#enter this directly in terminal\n",
    "import deeplabcut\n",
    "import wx"
   ]
  },
  {
   "cell_type": "markdown",
   "metadata": {},
   "source": [
    "First, create a new project. The function create_new_project creates a new project directory, required subdirectories, and a basic project configuration file. Each project is identified by the name of the project (e.g. Reaching), name of the experimenter (e.g. YourName), as well as the date at creation. Thus, this function requires the user to input the enter the name of the project, the name of the experimenter, and the full path of the videos that are (initially) used to create the training dataset (without spaces in each, i.e. Test1 vs. Test 1). Optional arguments specify the working directory, where the project directory will be created, and if the user wants to copy the videos (to the project directory). If the optional argument working_directory is unspecified, the project directory is created in the current working directory, and if copy_videos is unspecified symbolic links for the videos are created in the videos directory. Each symbolic link creates a reference to a video and thus eliminates the need to copy the entire video to the video directory (if the videos remain at that original location). \n"
   ]
  },
  {
   "cell_type": "code",
   "execution_count": null,
   "metadata": {},
   "outputs": [],
   "source": [
    "#deeplabcut.create_new_project(‘Name of the project’,‘Name of the experimenter’,[‘Full path of video 1’,‘Full path of video2’,‘Full path of video3’],working_directory=‘Full path of the working directory’,copy_videos=True/False)\n",
    "\n",
    "deeplabcut.create_new_project(‘1ratRGB’,‘dowlette’,[‘ /Users/dowlettealameldin/deeplabcut/1ratRBG.avi’],working_directory=‘ /Users/dowlettealameldin/deeplabcut’,copy_videos=True)\n",
    "\n"
   ]
  },
  {
   "cell_type": "markdown",
   "metadata": {},
   "source": [
    "Then extract the frames. The function extract_frames extracts the random frames from all the videos in the project configuration file in order to create a training dataset. The extracted frames from all the videos are stored in a separate subdirectory named after the video file’s name under the ‘labeled-data’. This function also has various parameters that might be useful based on the user’s need. The default values are ‘automatic’ and ‘kmeans’. When running the function extract_frames, if the parameter crop=True and checkcropping=True, then it will crop the frames to the size provided in the config.yaml file, and the user can first check the bounding box of the cropping. Upon calling extract_frames a image will pop up with a red bounding box based on the crop parameters so that the user can check those parameters. Once the user closes the pop-up window, they will be asked if the cropping is correct. If yes, then the frames are extracted accordingly. If not, the cropping parameters can be iteratively adjusted based on this graphical feedback before proceeding. As as reminder, for each function, place a ‘?’ after the function (i.e. deeplabcut.extract_frames?) to see all the available options. The provided function either selects frames from the videos in a randomly and temporally uniformly distributed way (uniform), by clustering based on visual appearance (k-means), "
   ]
  },
  {
   "cell_type": "code",
   "execution_count": null,
   "metadata": {},
   "outputs": [],
   "source": [
    "#deeplabcut.extract_frames(config_path,‘automatic/manual’,‘uniform/kmeans’)\n",
    "deeplabcut.extract_frames('/Users/dowlettealameldin/deeplabcut/experiment1-dowlette-2019-09-06/config.yaml')\n"
   ]
  },
  {
   "cell_type": "markdown",
   "metadata": {},
   "source": [
    "The toolbox provides a function ‘label_frames’ which helps the user to easily label all the extracted frames using an interactive graphical user interface (GUI). The user should have already named the body parts to label (points of interest) in the project’s configuration file by providing a list. The following command invokes the labeling toolbox. The GUI is launched taking the size of the user’s screen into account, so if two monitors are used (in landscape mode) place ‘Screens=2’ after config_path (The default is 1). Next, the user needs to use the ‘Load Frames’ button to select the directory which stores the extracted frames from one of the videos. A right click places the first body part, and subsequently, the user can either select one of the radio buttons (top right) to select a body part to label, or there is a built in auto-advance to the next body part. If a body part is not visible, simply do not label the part and click on the next body part you can label. Clicking the right arrow key will advance to the next frame. Each label will be plotted as a dot in a unique color.\n"
   ]
  },
  {
   "cell_type": "code",
   "execution_count": null,
   "metadata": {},
   "outputs": [],
   "source": [
    "# deeplabcut.label_frames(config_path)\n",
    "deeplabcut.label_frames('/Users/dowlettealameldin/deeplabcut/experiment1-dowlette-2019-09-06/config.yaml')\n"
   ]
  },
  {
   "cell_type": "markdown",
   "metadata": {},
   "source": [
    "The output of this code will be a config file (config.yaml) that you will use in the DeepLabCut implimentation seciton (where you will get the marker predictions). "
   ]
  }
 ],
 "metadata": {
  "kernelspec": {
   "display_name": "Python 3",
   "language": "python",
   "name": "python3"
  },
  "language_info": {
   "codemirror_mode": {
    "name": "ipython",
    "version": 3
   },
   "file_extension": ".py",
   "mimetype": "text/x-python",
   "name": "python",
   "nbconvert_exporter": "python",
   "pygments_lexer": "ipython3",
   "version": "3.7.4"
  }
 },
 "nbformat": 4,
 "nbformat_minor": 2
}

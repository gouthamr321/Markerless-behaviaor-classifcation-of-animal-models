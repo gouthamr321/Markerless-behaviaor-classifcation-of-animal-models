{
 "cells": [
  {
   "cell_type": "markdown",
   "metadata": {},
   "source": [
    "# Downloading DeepLabCut"
   ]
  },
  {
   "cell_type": "markdown",
   "metadata": {},
   "source": [
    "Download anaconda (Simply download the appropriate files here: https://www.anaconda.com/distribution/)"
   ]
  },
  {
   "cell_type": "markdown",
   "metadata": {},
   "source": [
    "Now, either go to www.deeplabcut.org (at the bottom of the page) to download the correct environment file: git clone as shown below "
   ]
  },
  {
   "cell_type": "code",
   "execution_count": null,
   "metadata": {},
   "outputs": [],
   "source": [
    "#in the terminal/cmd program, while in a folder you wish to place DeepLabCut type\n",
    "git clone https://github.com/AlexEMG/DeepLabCut.git"
   ]
  },
  {
   "cell_type": "markdown",
   "metadata": {},
   "source": [
    "Now, always in Terminal (or Command Prompt), go to the folder named conda-environments using the command \"cd\" (which stands for change directory)."
   ]
  },
  {
   "cell_type": "code",
   "execution_count": null,
   "metadata": {},
   "outputs": [],
   "source": [
    "#cd C:\\Users\\YourUserName\\Desktop\\DeepLabCut\\conda-environments\n",
    "cd /Users/dowlettealameldin/deeplabcut/conda-environments"
   ]
  },
  {
   "cell_type": "markdown",
   "metadata": {},
   "source": [
    "Now, open the program terminal or cmd where you placed the file (i.e. cd conda-environments) and then type: "
   ]
  },
  {
   "cell_type": "code",
   "execution_count": null,
   "metadata": {},
   "outputs": [],
   "source": [
    "conda env create -f  DLC-CPU.yaml"
   ]
  },
  {
   "cell_type": "markdown",
   "metadata": {},
   "source": [
    "You can now use this environment from anywhere on your computer (i.e. no need to go back into the conda- folder). Just enter your environment by running:"
   ]
  },
  {
   "cell_type": "code",
   "execution_count": null,
   "metadata": {},
   "outputs": [],
   "source": [
    "#for MacOS or Ubuntu source/conda activate nameoftheenv \n",
    "source activate DLC-CPU\n",
    "#for windows\n",
    "activate DLC-CPU"
   ]
  },
  {
   "cell_type": "markdown",
   "metadata": {},
   "source": [
    "For more information visit: https://github.com/AlexEMG/DeepLabCut/blob/master/conda-environments/README.md, https://github.com/AlexEMG/DeepLabCut/blob/master/docs/installation.md, and http://www.mousemotorlab.org/deeplabcut"
   ]
  }
 ],
 "metadata": {
  "kernelspec": {
   "display_name": "Python 3",
   "language": "python",
   "name": "python3"
  },
  "language_info": {
   "codemirror_mode": {
    "name": "ipython",
    "version": 3
   },
   "file_extension": ".py",
   "mimetype": "text/x-python",
   "name": "python",
   "nbconvert_exporter": "python",
   "pygments_lexer": "ipython3",
   "version": "3.7.4"
  }
 },
 "nbformat": 4,
 "nbformat_minor": 2
}

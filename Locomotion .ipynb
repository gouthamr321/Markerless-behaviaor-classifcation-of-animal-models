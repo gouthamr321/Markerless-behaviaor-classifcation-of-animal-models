{
 "cells": [
  {
   "cell_type": "markdown",
   "metadata": {},
   "source": [
    "# Calculating the Total Distance Travled "
   ]
  },
  {
   "cell_type": "markdown",
   "metadata": {},
   "source": [
    "Here our goal is to predict the total distance traveled of the Marker predictions we derived from Deeplabcut. We will use the Marker predictions file(.csv file) to calculate the total distance traveled using the Euclidian Distance equation."
   ]
  },
  {
   "cell_type": "code",
   "execution_count": null,
   "metadata": {},
   "outputs": [],
   "source": [
    "# library imports\n",
    "import numpy as np\n",
    "import math\n",
    "import pandas as pd "
   ]
  },
  {
   "cell_type": "markdown",
   "metadata": {},
   "source": [
    "To find the total distance traveled, we need the prediction output from DeeplabCut. The directories below should be modified to include the locations of these files on your local machine"
   ]
  },
  {
   "cell_type": "code",
   "execution_count": null,
   "metadata": {},
   "outputs": [],
   "source": [
    "# Import the Marker prediction file \n",
    "data='/Users/dowlettealameldin/exp/Test7/Test7PART2DLC_resnet50_Trial3Mar23shuffle1_10000.csv'\n",
    "df = pd.read_csv(data,header=1) "
   ]
  },
  {
   "cell_type": "markdown",
   "metadata": {},
   "source": [
    "We use the centroid marker to calculate the total distance traveled becuase it is the most consistent marker. "
   ]
  },
  {
   "cell_type": "code",
   "execution_count": null,
   "metadata": {},
   "outputs": [],
   "source": [
    "# Identify marker of Interest - Centroid \n",
    "df1 = df[['centroid','centroid.1']]"
   ]
  },
  {
   "cell_type": "code",
   "execution_count": null,
   "metadata": {},
   "outputs": [],
   "source": [
    "#seperate x and y coordinates\n",
    "x=df.iloc[:,7]\n",
    "y=df.iloc[:,8]"
   ]
  },
  {
   "cell_type": "markdown",
   "metadata": {},
   "source": [
    "In order to calculate the total distance traveled we are using Euclidian Distance equation. Therefore, we need to find the change in x and y over the entire cvs file. "
   ]
  },
  {
   "cell_type": "code",
   "execution_count": null,
   "metadata": {},
   "outputs": [],
   "source": [
    "#Find the change in x and change in y over the entire file \n",
    "w=x[:-1].to_numpy()\n",
    "z=y[:-1].to_numpy()\n",
    "a=x[1:].to_numpy()\n",
    "b=y[1:].to_numpy()\n",
    "\n",
    "dx = w-a\n",
    "dy = z-b"
   ]
  },
  {
   "cell_type": "markdown",
   "metadata": {},
   "source": [
    "After we find the change in x and y over the entire csv file, we use the equation below to find the distance travled over each change in x and y. "
   ]
  },
  {
   "cell_type": "code",
   "execution_count": null,
   "metadata": {},
   "outputs": [],
   "source": [
    "#finding the distnace travled over each change in x and y\n",
    "distanceWalked = ((dx **2 + dy **2)**.5)"
   ]
  },
  {
   "cell_type": "markdown",
   "metadata": {},
   "source": [
    "To find the overall disntance traveled, we now need to sum the distance walked over the entire csv file. "
   ]
  },
  {
   "cell_type": "code",
   "execution_count": null,
   "metadata": {},
   "outputs": [],
   "source": [
    "#sum the distnace travled to find overall distance travled \n",
    "totaldistance= sum(distanceWalked)"
   ]
  }
 ],
 "metadata": {
  "kernelspec": {
   "display_name": "Python 3",
   "language": "python",
   "name": "python3"
  },
  "language_info": {
   "codemirror_mode": {
    "name": "ipython",
    "version": 3
   },
   "file_extension": ".py",
   "mimetype": "text/x-python",
   "name": "python",
   "nbconvert_exporter": "python",
   "pygments_lexer": "ipython3",
   "version": "3.7.4"
  }
 },
 "nbformat": 4,
 "nbformat_minor": 2
}

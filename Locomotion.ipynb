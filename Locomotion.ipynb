{
 "cells": [
  {
   "cell_type": "markdown",
   "metadata": {},
   "source": [
    "# Calculating the Total Distance Travled "
   ]
  },
  {
   "cell_type": "markdown",
   "metadata": {},
   "source": [
    "Here our goal is to predict the total distance traveled of the Marker predictions we derived from Deeplabcut. We will use the Marker predictions file(.csv file) to calculate the total distance traveled using the Euclidian Distance equation."
   ]
  },
  {
   "cell_type": "code",
   "execution_count": 42,
   "metadata": {},
   "outputs": [],
   "source": [
    "# library imports\n",
    "import numpy as np\n",
    "import math\n",
    "import pandas as pd "
   ]
  },
  {
   "cell_type": "markdown",
   "metadata": {},
   "source": [
    "To find the total distance traveled, we need the prediction output from DeeplabCut. The directories below should be modified to include the locations of these files on your local machine"
   ]
  },
  {
   "cell_type": "code",
   "execution_count": 43,
   "metadata": {},
   "outputs": [],
   "source": [
    "# Import the Marker prediction file \n",
    "data='/Users/goutham/Documents/Senior_year/research_design/Test7PART1DLC_resnet50_Trial3Mar23shuffle1_10000.csv'\n",
    "df = pd.read_csv(data,header=1) "
   ]
  },
  {
   "cell_type": "markdown",
   "metadata": {},
   "source": [
    "We use the centroid marker to calculate the total distance traveled becuase it is the most consistent marker. "
   ]
  },
  {
   "cell_type": "code",
   "execution_count": 44,
   "metadata": {},
   "outputs": [],
   "source": [
    "# Identify marker of Interest - Centroid \n",
    "df1 = df[['centroid','centroid.1']]"
   ]
  },
  {
   "cell_type": "code",
   "execution_count": 45,
   "metadata": {},
   "outputs": [
    {
     "data": {
      "text/html": [
       "<div>\n",
       "<style scoped>\n",
       "    .dataframe tbody tr th:only-of-type {\n",
       "        vertical-align: middle;\n",
       "    }\n",
       "\n",
       "    .dataframe tbody tr th {\n",
       "        vertical-align: top;\n",
       "    }\n",
       "\n",
       "    .dataframe thead th {\n",
       "        text-align: right;\n",
       "    }\n",
       "</style>\n",
       "<table border=\"1\" class=\"dataframe\">\n",
       "  <thead>\n",
       "    <tr style=\"text-align: right;\">\n",
       "      <th></th>\n",
       "      <th>centroid</th>\n",
       "      <th>centroid.1</th>\n",
       "    </tr>\n",
       "  </thead>\n",
       "  <tbody>\n",
       "    <tr>\n",
       "      <th>0</th>\n",
       "      <td>x</td>\n",
       "      <td>y</td>\n",
       "    </tr>\n",
       "    <tr>\n",
       "      <th>1</th>\n",
       "      <td>399.3378601074219</td>\n",
       "      <td>154.88653564453125</td>\n",
       "    </tr>\n",
       "    <tr>\n",
       "      <th>2</th>\n",
       "      <td>399.1273193359375</td>\n",
       "      <td>154.82579040527344</td>\n",
       "    </tr>\n",
       "    <tr>\n",
       "      <th>3</th>\n",
       "      <td>399.09173583984375</td>\n",
       "      <td>155.12921142578125</td>\n",
       "    </tr>\n",
       "    <tr>\n",
       "      <th>4</th>\n",
       "      <td>398.5748596191406</td>\n",
       "      <td>154.9798126220703</td>\n",
       "    </tr>\n",
       "  </tbody>\n",
       "</table>\n",
       "</div>"
      ],
      "text/plain": [
       "             centroid          centroid.1\n",
       "0                   x                   y\n",
       "1   399.3378601074219  154.88653564453125\n",
       "2   399.1273193359375  154.82579040527344\n",
       "3  399.09173583984375  155.12921142578125\n",
       "4   398.5748596191406   154.9798126220703"
      ]
     },
     "execution_count": 45,
     "metadata": {},
     "output_type": "execute_result"
    }
   ],
   "source": [
    "df1.head()"
   ]
  },
  {
   "cell_type": "code",
   "execution_count": 46,
   "metadata": {},
   "outputs": [],
   "source": [
    "#seperate x and y coordinates\n",
    "x=df1.iloc[:,0]\n",
    "y=df1.iloc[:,1]"
   ]
  },
  {
   "cell_type": "markdown",
   "metadata": {},
   "source": [
    "In order to calculate the total distance traveled we are using Euclidian Distance equation. Therefore, we need to find the change in x and y over the entire cvs file. "
   ]
  },
  {
   "cell_type": "code",
   "execution_count": 58,
   "metadata": {},
   "outputs": [],
   "source": [
    "#Find the change in x and change in y over the entire file \n",
    "w=x[2:].to_numpy().astype(float)\n",
    "z=y[2:].to_numpy().astype(float)\n",
    "a=x[1:len(x)-1].to_numpy().astype(float)\n",
    "b=y[1:len(y)-1].to_numpy().astype(float)\n",
    "\n",
    "dx = w-a\n",
    "dy = z-b\n",
    "\n",
    "\n"
   ]
  },
  {
   "cell_type": "markdown",
   "metadata": {},
   "source": [
    "After we find the change in x and y over the entire csv file, we use the equation below to find the distance travled over each change in x and y. "
   ]
  },
  {
   "cell_type": "code",
   "execution_count": 59,
   "metadata": {},
   "outputs": [],
   "source": [
    "#finding the distnace travled over each change in x and y\n",
    "distanceWalked = ((dx **2 + dy **2)**.5)"
   ]
  },
  {
   "cell_type": "markdown",
   "metadata": {},
   "source": [
    "To find the overall disntance traveled, we now need to sum the distance walked over the entire csv file. "
   ]
  },
  {
   "cell_type": "code",
   "execution_count": 60,
   "metadata": {},
   "outputs": [],
   "source": [
    "#sum the distnace travled to find overall distance travled \n",
    "totaldistance= sum(distanceWalked)"
   ]
  },
  {
   "cell_type": "code",
   "execution_count": 61,
   "metadata": {},
   "outputs": [
    {
     "name": "stdout",
     "output_type": "stream",
     "text": [
      "20837.493239998294\n"
     ]
    }
   ],
   "source": [
    "print(totaldistance)"
   ]
  },
  {
   "cell_type": "code",
   "execution_count": null,
   "metadata": {},
   "outputs": [],
   "source": []
  }
 ],
 "metadata": {
  "kernelspec": {
   "display_name": "Python 3",
   "language": "python",
   "name": "python3"
  },
  "language_info": {
   "codemirror_mode": {
    "name": "ipython",
    "version": 3
   },
   "file_extension": ".py",
   "mimetype": "text/x-python",
   "name": "python",
   "nbconvert_exporter": "python",
   "pygments_lexer": "ipython3",
   "version": "3.7.3"
  }
 },
 "nbformat": 4,
 "nbformat_minor": 2
}

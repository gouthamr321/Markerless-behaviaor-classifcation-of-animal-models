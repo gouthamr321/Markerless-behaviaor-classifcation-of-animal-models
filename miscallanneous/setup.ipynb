{
 "cells": [
  {
   "cell_type": "code",
   "execution_count": 1,
   "metadata": {},
   "outputs": [],
   "source": [
    "#enter this directly in terminal--for whatever reason kernal keeps dying when doing on jupyter\n",
    "ipython\n",
    "pythonw\n",
    "\n",
    "import deeplabcut\n",
    "import wx\n",
    "\n",
    "# do the thing with docker "
   ]
  },
  {
   "cell_type": "code",
   "execution_count": null,
   "metadata": {},
   "outputs": [],
   "source": [
    "deeplabcut.extract_frames('/Users/goutham/Development/CODE/DeepLabCat/experiment1-goutham-2019-09-06/config.yaml')\n",
    "\n",
    "deeplabcut.label_frames('/Users/goutham/Development/CODE/DeepLabCat/experiment1-goutham-2019-09-06/config.yaml')\n"
   ]
  },
  {
   "cell_type": "code",
   "execution_count": 1,
   "metadata": {},
   "outputs": [
    {
     "data": {
      "text/plain": [
       "6"
      ]
     },
     "execution_count": 1,
     "metadata": {},
     "output_type": "execute_result"
    }
   ],
   "source": [
    "# setting up a new project\n",
    "\n",
    "use source activate to launch the special conda environment--#with the deeplabcut dependencies\n",
    "# for mac: source activate dlc-macOS-CPU\n",
    "# for windows: idk\n",
    "\n",
    "pythonw # python environment that supports GUI\n",
    "#to start a project from scratch \n",
    "\n",
    "# then import libraries:\n",
    "\n",
    "import deeplabcut\n",
    "import wx # GUI library\n",
    "\n",
    "config='/Users/goutham/Development/CODE/DeepLabCat/trial4/2ratsIR_trial-team12-2019-10-11/config.yaml'\n",
    "\n",
    "deeplabcut.create_new_project('2ratsIR_trial','team12',['/Users/goutham/Development/CODE/DeepLabCat/2ratsIRbag.avi'],working_directory='/Users/goutham/Development/CODE/DeepLabCat/trial4',copy_videos=True)\n",
    "# this is in format --(name of proj, name of experimenter,['directory of video'],working directory='where u want it on ur local machine',copy_videos=True)\n",
    "\n",
    "#prob where is the config file????\n",
    "\n",
    "\n",
    "deeplabcut.extract_frames('/Users/goutham/Development/CODE/DeepLabCat/trial4/2ratsIR_trial-team12-2019-10-11/config.yaml','automatic','/Users/goutham/Development/CODE/DeepLabCat/2ratsIRbag.mov','kmeans') # this may be optional---update: it ain't\n",
    "#configpth,'utomatic/manuel','unif/kmeans',crop=true/false\n",
    "# issue with this not actually extracting frames---\n",
    "\n",
    "\n",
    "deeplabcut.label_frames('/Users/goutham/Development/CODE/DeepLabCat/trial4/2ratsIR_trial-team12-2019-10-11/config.yaml') # label frames using GUI\n",
    "\n",
    "\n",
    "\n",
    "deeplabcut.create_training_dataset(config_path,num_shuffles=1)\n",
    "\n",
    "config_path='/Users/goutham/Development/CODE/DeepLabCat/trial2-Goutham-2019-09-11/config.yaml'\n",
    "\n",
    "\n",
    "#to train\n",
    "\n",
    "deeplabcut.train_network('/Users/goutham/Development/CODE/DeepLabCat/trial2-Goutham-2019-09-11/config.yaml',maxiters=1)\n",
    "\n"
   ]
  },
  {
   "cell_type": "code",
   "execution_count": null,
   "metadata": {},
   "outputs": [],
   "source": [
    "deeplabcut.evaluate_network(config_path,plotting=True)"
   ]
  }
 ],
 "metadata": {
  "kernelspec": {
   "display_name": "Python 3",
   "language": "python",
   "name": "python3"
  },
  "language_info": {
   "codemirror_mode": {
    "name": "ipython",
    "version": 3
   },
   "file_extension": ".py",
   "mimetype": "text/x-python",
   "name": "python",
   "nbconvert_exporter": "python",
   "pygments_lexer": "ipython3",
   "version": "3.7.3"
  }
 },
 "nbformat": 4,
 "nbformat_minor": 2
}

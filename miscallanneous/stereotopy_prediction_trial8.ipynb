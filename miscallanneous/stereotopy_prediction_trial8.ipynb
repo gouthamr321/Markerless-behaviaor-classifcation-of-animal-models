{
  "nbformat": 4,
  "nbformat_minor": 0,
  "metadata": {
    "colab": {
      "name": "stereotopy_prediction_trial8.ipynb",
      "provenance": []
    },
    "kernelspec": {
      "name": "python3",
      "display_name": "Python 3"
    }
  },
  "cells": [
    {
      "cell_type": "markdown",
      "metadata": {
        "id": "FBwGBb6wbpbI",
        "colab_type": "text"
      },
      "source": [
        "Here we apply our algorithum for the classification of stereotopy on a specific test case"
      ]
    },
    {
      "cell_type": "code",
      "metadata": {
        "id": "MtE5Zw6uCnUU",
        "colab_type": "code",
        "colab": {}
      },
      "source": [
        "import pandas as pd\n",
        "import numpy as np\n",
        "import matplotlib.pyplot as plt\n",
        "from sklearn.preprocessing import MinMaxScaler\n",
        "\n",
        "from tensorflow.keras.preprocessing.sequence import TimeseriesGenerator\n",
        "from sklearn.model_selection import train_test_split\n",
        "import pandas as pd\n",
        "from keras.optimizers import Adam\n",
        "from keras.callbacks import ModelCheckpoint\n",
        "from keras.datasets import imdb\n",
        "from keras.models import Sequential\n",
        "from keras.layers import Dense\n",
        "from keras.layers import LSTM\n",
        "from keras.layers.embeddings import Embedding\n",
        "from keras.preprocessing import sequence\n",
        "\n",
        "import numpy\n",
        "from keras.datasets import imdb\n",
        "from keras.models import Sequential\n",
        "from keras.layers import Dense\n",
        "from keras.layers import LSTM\n",
        "from keras.layers.embeddings import Embedding\n",
        "from keras.preprocessing import sequence\n",
        "import tensorflow as tf"
      ],
      "execution_count": 0,
      "outputs": []
    },
    {
      "cell_type": "code",
      "metadata": {
        "id": "3U8TDxuFCt-a",
        "colab_type": "code",
        "outputId": "9fc7644b-6c64-4548-96ef-e3ee63939db8",
        "colab": {
          "base_uri": "https://localhost:8080/",
          "height": 71
        }
      },
      "source": [
        "stereotopy_gt=pd.read_excel('/content/drive/My Drive/test8_data_senior_design/test8/trial8_stereo_complete.xlsx',header=0)\n",
        "Marker_predictions_1=pd.read_csv('/content/drive/My Drive/test8_data_senior_design/test8/Test8PART1DLC_resnet50_Trial4Mar23shuffle1_10000.csv',header=1)[[\"snout\",\"snout.1\",\"centroid\",\"centroid.1\"]]\n",
        "Marker_predictions_2=pd.read_csv('/content/drive/My Drive/test8_data_senior_design/test8/Test8PART2DLC_resnet50_Trial4Mar23shuffle1_10000.csv',header=1)[[\"snout\",\"snout.1\",\"centroid\",\"centroid.1\"]]\n",
        "Marker_predictions_3=pd.read_csv('/content/drive/My Drive/test8_data_senior_design/test8/Test8PART3DLC_resnet50_Trial4Mar23shuffle1_10000.csv',header=1)[[\"snout\",\"snout.1\",\"centroid\",\"centroid.1\"]]\n",
        "Marker_predictions_4=pd.read_csv('/content/drive/My Drive/test8_data_senior_design/test8/Test8PART4DLC_resnet50_Trial4Mar23shuffle1_10000.csv',header=1)[[\"snout\",\"snout.1\",\"centroid\",\"centroid.1\"]]\n",
        "Marker_predictions_5=pd.read_csv('/content/drive/My Drive/test8_data_senior_design/test8/Test8PART5DLC_resnet50_Trial4Mar23shuffle1_10000.csv',header=1)[[\"snout\",\"snout.1\",\"centroid\",\"centroid.1\"]]\n",
        "\n",
        "stereotopy_gt_1=stereotopy_gt[6:25].to_numpy()\n",
        "stereotopy_gt_2=stereotopy_gt[31:50].to_numpy()\n",
        "stereotopy_gt_3=stereotopy_gt[56:75].to_numpy()\n",
        "stereotopy_gt_4=stereotopy_gt[81:100].to_numpy()\n",
        "stereotopy_gt_5=stereotopy_gt[106:125].to_numpy()\n",
        "\n",
        "Marker_predictions_1=Marker_predictions_1.iloc[825:17925].to_numpy().astype(float) # start at 55 seconds after and end at the 20th exactly\n",
        "Marker_predictions_2=Marker_predictions_2.iloc[825:17925].to_numpy().astype(float)\n",
        "Marker_predictions_3=Marker_predictions_3.iloc[825:17925].to_numpy().astype(float)\n",
        "Marker_predictions_4=Marker_predictions_4.iloc[825:17925].to_numpy().astype(float)\n",
        "Marker_predictions_5=Marker_predictions_5.iloc[825:17925].to_numpy().astype(float)\n",
        "\n",
        "Marker_predictions=np.concatenate((Marker_predictions_1,Marker_predictions_2,Marker_predictions_3,Marker_predictions_4,Marker_predictions_5))\n",
        "data_stereotopy_labels=np.concatenate((stereotopy_gt_1[:,1],stereotopy_gt_2[:,1],stereotopy_gt_3[:,1],stereotopy_gt_4[:,1],stereotopy_gt_5[:,1]))\n"
      ],
      "execution_count": 0,
      "outputs": [
        {
          "output_type": "stream",
          "text": [
            "/usr/local/lib/python3.6/dist-packages/IPython/core/interactiveshell.py:2718: DtypeWarning: Columns (0,1,2,3,4,5,6,7,8,9,10,11,12,13,14,15,16,17,18,19,20,21,22,23,24,25,26,27,28,29,30,31,32,33,34,35,36,37,38,39,40,41,42,43,44,45) have mixed types.Specify dtype option on import or set low_memory=False.\n",
            "  interactivity=interactivity, compiler=compiler, result=result)\n"
          ],
          "name": "stderr"
        }
      ]
    },
    {
      "cell_type": "code",
      "metadata": {
        "id": "4WmMGZmoC3l8",
        "colab_type": "code",
        "colab": {}
      },
      "source": [
        "feature1=Marker_predictions[:,0]\n",
        "feature2=Marker_predictions[:,1]\n",
        "feature3=Marker_predictions[:,2]\n",
        "feature4=Marker_predictions[:,3]\n",
        "feature1=feature1.reshape((19*5,900))\n",
        "feature2=feature2.reshape((19*5,900))\n",
        "feature3=feature3.reshape((19*5,900))\n",
        "feature4=feature4.reshape((19*5,900))\n",
        "features=np.stack((feature1,feature2,feature3,feature4),axis=2)"
      ],
      "execution_count": 0,
      "outputs": []
    },
    {
      "cell_type": "code",
      "metadata": {
        "id": "k9GEsfGTC3wz",
        "colab_type": "code",
        "colab": {}
      },
      "source": [
        "model = Sequential()\n",
        "model.add(LSTM(256, input_shape=(900, 4))) # input shape is # timesteps, # features\n",
        "model.add(Dense(1, activation='sigmoid'))\n",
        "\n",
        "model.load_weights('/content/drive/My Drive/test8_data_senior_design/test8/stereotypy.pkl')\n",
        "predicitions_1=tf.greater(model.predict(features[0:19]), .5).numpy().astype(int)\n",
        "predicitions_2=tf.greater(model.predict(features[19:38]), .5).numpy().astype(int)\n",
        "predicitions_3=tf.greater(model.predict(features[38:57]), .5).numpy().astype(int)\n",
        "predicitions_4=tf.greater(model.predict(features[57:76]), .5).numpy().astype(int)\n",
        "predicitions_5=tf.greater(model.predict(features[76:95]), .5).numpy().astype(int)"
      ],
      "execution_count": 0,
      "outputs": []
    },
    {
      "cell_type": "code",
      "metadata": {
        "id": "dtRd0_KBJ5M8",
        "colab_type": "code",
        "colab": {}
      },
      "source": [
        "stereotopy_prevelence=((sum(predicitions_1))/len(predicitions_1))\n",
        "stereotopy_prevelence_2=((sum(predicitions_2))/len(predicitions_2))\n",
        "stereotopy_prevelence_3=((sum(predicitions_3))/len(predicitions_3))\n",
        "stereotopy_prevelence_4=((sum(predicitions_4))/len(predicitions_4))\n",
        "stereotopy_prevelence_5=((sum(predicitions_5))/len(predicitions_5))"
      ],
      "execution_count": 0,
      "outputs": []
    },
    {
      "cell_type": "markdown",
      "metadata": {
        "id": "2Jyo-dhsdBZY",
        "colab_type": "text"
      },
      "source": [
        "Below is the prevelence of stereotopy defined as total_stereotopy =(labels/total labels)"
      ]
    },
    {
      "cell_type": "code",
      "metadata": {
        "id": "RDtDu-EjWvLH",
        "colab_type": "code",
        "outputId": "d8fd55f9-3474-479c-f6be-b4fb412f7840",
        "colab": {
          "base_uri": "https://localhost:8080/",
          "height": 102
        }
      },
      "source": [
        "print(stereotopy_prevelence)\n",
        "print(stereotopy_prevelence_2)\n",
        "print(stereotopy_prevelence_3)\n",
        "print(stereotopy_prevelence_4)\n",
        "print(stereotopy_prevelence_5)"
      ],
      "execution_count": 0,
      "outputs": [
        {
          "output_type": "stream",
          "text": [
            "[0.15789474]\n",
            "[0.47368421]\n",
            "[0.26315789]\n",
            "[0.21052632]\n",
            "[0.47368421]\n"
          ],
          "name": "stdout"
        }
      ]
    }
  ]
}
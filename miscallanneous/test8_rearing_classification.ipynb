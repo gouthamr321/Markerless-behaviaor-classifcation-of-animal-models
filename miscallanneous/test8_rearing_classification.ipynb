{
  "nbformat": 4,
  "nbformat_minor": 0,
  "metadata": {
    "colab": {
      "name": "test8_rearing_classification.ipynb",
      "provenance": []
    },
    "kernelspec": {
      "name": "python3",
      "display_name": "Python 3"
    }
  },
  "cells": [
    {
      "cell_type": "markdown",
      "metadata": {
        "id": "5iXuVOCw_FPx",
        "colab_type": "text"
      },
      "source": [
        "Here we apply the Rearing classification algorithum that was discussed to a specific case study"
      ]
    },
    {
      "cell_type": "code",
      "metadata": {
        "id": "Ip_pkeI1dxBC",
        "colab_type": "code",
        "colab": {}
      },
      "source": [
        "import random\n",
        "import numpy as np\n",
        "from PIL import Image\n",
        "import math\n",
        "import pandas as pd \n",
        "from sklearn import svm\n",
        "import os\n",
        "from sklearn.metrics import zero_one_loss\n",
        "from sklearn.metrics import confusion_matrix"
      ],
      "execution_count": 0,
      "outputs": []
    },
    {
      "cell_type": "code",
      "metadata": {
        "id": "OMNwXq2eeO4W",
        "colab_type": "code",
        "outputId": "27266714-5971-428e-941a-33a69ad10448",
        "colab": {
          "base_uri": "https://localhost:8080/",
          "height": 71
        }
      },
      "source": [
        "Marker_predictions_1=pd.read_csv('/content/drive/My Drive/test8_data_senior_design/test8/Test8PART1DLC_resnet50_Trial4Mar23shuffle1_10000.csv',header=1)\n",
        "Marker_predictions_2=pd.read_csv('/content/drive/My Drive/test8_data_senior_design/test8/Test8PART2DLC_resnet50_Trial4Mar23shuffle1_10000.csv',header=1)\n",
        "Marker_predictions_3=pd.read_csv('/content/drive/My Drive/test8_data_senior_design/test8/Test8PART3DLC_resnet50_Trial4Mar23shuffle1_10000.csv',header=1)\n",
        "Marker_predictions_4=pd.read_csv('/content/drive/My Drive/test8_data_senior_design/test8/Test8PART4DLC_resnet50_Trial4Mar23shuffle1_10000.csv',header=1)\n",
        "Marker_predictions_5=pd.read_csv('/content/drive/My Drive/test8_data_senior_design/test8/Test8PART5DLC_resnet50_Trial4Mar23shuffle1_10000.csv',header=1)\n",
        "\n",
        "rearing_gt=pd.read_excel('/content/drive/My Drive/test8_data_senior_design/test8/trial8_rearing_complete.xlsx',header=0)\n",
        "\n",
        "# organize rearing data # frame rate of 15\n",
        "rearing_gt_1=rearing_gt[5400:22500].to_numpy() # start at sixth minute, there are 19 minutes in each segment therefore 17100 frames in between \n",
        "rearing_gt_2=rearing_gt[27900:45000].to_numpy()\n",
        "rearing_gt_3=rearing_gt[50400:67500].to_numpy()\n",
        "rearing_gt_4=rearing_gt[72900:90000].to_numpy()\n",
        "rearing_gt_5=rearing_gt[95400:112500].to_numpy()\n",
        "data_rearing_labels=np.concatenate((rearing_gt_1[:,1],rearing_gt_2[:,1],rearing_gt_3[:,1],rearing_gt_4[:,1],rearing_gt_5[:,1]))\n",
        "\n",
        "#organizing marker predictions\n",
        "Marker_predictions_1=Marker_predictions_1.iloc[825:17925] # start at 55 seconds after and end at the 20th exactly\n",
        "Marker_predictions_2=Marker_predictions_2.iloc[825:17925]\n",
        "Marker_predictions_3=Marker_predictions_3.iloc[825:17925]\n",
        "Marker_predictions_4=Marker_predictions_4.iloc[825:17925]\n",
        "Marker_predictions_5=Marker_predictions_5.iloc[825:17925]\n",
        "Marker_predictions = [Marker_predictions_1, Marker_predictions_2, Marker_predictions_3, Marker_predictions_4, Marker_predictions_5]\n",
        "Marker_predictions = pd.concat(Marker_predictions)\n",
        "\n",
        "\n",
        "snout_xy_train=Marker_predictions[[\"snout\",\"snout.1\"]].to_numpy().astype(float)\n",
        "centroid_xy_train=Marker_predictions[[\"rightear\",\"rightear.1\"]].to_numpy().astype(float)\n",
        "tailbase_xy_train=Marker_predictions[[\"tailbase\",\"tailbase.1\"]].to_numpy().astype(float)\n",
        "hip_right_xy_train=Marker_predictions[[\"righthip\",\"righthip.1\"]].to_numpy().astype(float)\n",
        "hip_left_xy_train=Marker_predictions[[\"lefthip\",\"lefthip.1\"]].to_numpy().astype(float)\n",
        "\n",
        "def Euclidean_distance(x_1,y_1,x_2,y_2):\n",
        "    euc_dist=np.sqrt((((x_1-x_2)**2) + ((y_1-y_2)**2)))\n",
        "    return euc_dist\n",
        "\n",
        "\n",
        "#features\n",
        "distance_snout_tailbase=Euclidean_distance(snout_xy_train[:,0],snout_xy_train[:,1],tailbase_xy_train[:,0],tailbase_xy_train[:,1])\n",
        "distance_snout_right_hip=Euclidean_distance(snout_xy_train[:,0],snout_xy_train[:,1],hip_right_xy_train[:,0],hip_right_xy_train[:,1])\n",
        "distance_snout_left_hip=Euclidean_distance(snout_xy_train[:,0],snout_xy_train[:,1],hip_left_xy_train[:,0],hip_left_xy_train[:,1])\n",
        "prob_centroid=Marker_predictions[[\"centroid.2\",\"rightcentroid.2\",\"leftcentroid.2\"]].to_numpy().astype(float)\n",
        "\n",
        "features=np.column_stack((distance_snout_tailbase,distance_snout_right_hip,distance_snout_left_hip,prob_centroid))\n",
        "\n"
      ],
      "execution_count": 0,
      "outputs": [
        {
          "output_type": "stream",
          "text": [
            "/usr/local/lib/python3.6/dist-packages/IPython/core/interactiveshell.py:2718: DtypeWarning: Columns (0,1,2,3,4,5,6,7,8,9,10,11,12,13,14,15,16,17,18,19,20,21,22,23,24,25,26,27,28,29,30,31,32,33,34,35,36,37,38,39,40,41,42,43,44,45) have mixed types.Specify dtype option on import or set low_memory=False.\n",
            "  interactivity=interactivity, compiler=compiler, result=result)\n"
          ],
          "name": "stderr"
        }
      ]
    },
    {
      "cell_type": "markdown",
      "metadata": {
        "id": "x6XV_j6b91MV",
        "colab_type": "text"
      },
      "source": [
        "Train the SVM model on the controll data below"
      ]
    },
    {
      "cell_type": "code",
      "metadata": {
        "id": "YCCqSPdOeYgt",
        "colab_type": "code",
        "outputId": "6087c771-71af-4f7f-88c6-1a3aa1d3cc63",
        "colab": {
          "base_uri": "https://localhost:8080/",
          "height": 85
        }
      },
      "source": [
        "clf = svm.SVC(kernel='linear')\n",
        "clf.fit(features[0:17100,:],data_rearing_labels[0:17100])"
      ],
      "execution_count": 0,
      "outputs": [
        {
          "output_type": "execute_result",
          "data": {
            "text/plain": [
              "SVC(C=1.0, break_ties=False, cache_size=200, class_weight=None, coef0=0.0,\n",
              "    decision_function_shape='ovr', degree=3, gamma='scale', kernel='linear',\n",
              "    max_iter=-1, probability=False, random_state=None, shrinking=True,\n",
              "    tol=0.001, verbose=False)"
            ]
          },
          "metadata": {
            "tags": []
          },
          "execution_count": 3
        }
      ]
    },
    {
      "cell_type": "code",
      "metadata": {
        "id": "qDGo_l_GiKN0",
        "colab_type": "code",
        "outputId": "fe74b3b2-6585-4c75-fae8-07ede0974d88",
        "colab": {
          "base_uri": "https://localhost:8080/",
          "height": 85
        }
      },
      "source": [
        "predictions_2=clf.predict(features[17100:17100*2,:])\n",
        "loss=zero_one_loss(data_rearing_labels[17100:17100*2], predictions_2) \n",
        "Accuracy=1-loss\n",
        "print('Overall Testing Accuracy: {}'.format(Accuracy))\n",
        "\n",
        "predictions_3=clf.predict(features[17100*2:17100*3])\n",
        "loss=zero_one_loss(data_rearing_labels[17100*2:17100*3], predictions_3) \n",
        "Accuracy=1-loss\n",
        "print('Overall Testing Accuracy: {}'.format(Accuracy))\n",
        "\n",
        "predictions_4=clf.predict(features[17100*3:17100*4])\n",
        "loss=zero_one_loss(data_rearing_labels[17100*3:17100*4], predictions_4) \n",
        "Accuracy=1-loss\n",
        "print('Overall Testing Accuracy: {}'.format(Accuracy))\n",
        "\n",
        "predictions_5=clf.predict(features[17100*4:17100*5])\n",
        "loss=zero_one_loss(data_rearing_labels[17100*4:17100*5], predictions_5) \n",
        "Accuracy=1-loss\n",
        "print('Overall Testing Accuracy: {}'.format(Accuracy))\n"
      ],
      "execution_count": 0,
      "outputs": [
        {
          "output_type": "stream",
          "text": [
            "Overall Testing Accuracy: 0.9546198830409357\n",
            "Overall Testing Accuracy: 0.9749122807017544\n",
            "Overall Testing Accuracy: 0.9869005847953216\n",
            "Overall Testing Accuracy: 0.7988888888888889\n"
          ],
          "name": "stdout"
        }
      ]
    },
    {
      "cell_type": "markdown",
      "metadata": {
        "id": "BDQ4f2tl7ozD",
        "colab_type": "text"
      },
      "source": [
        "We consider Prevelence of Rearing to be the percentage of frames where our SVM predicts the model to be rearing\n"
      ]
    },
    {
      "cell_type": "code",
      "metadata": {
        "id": "QsZAMW0ri9TG",
        "colab_type": "code",
        "outputId": "ac8c9d48-21d2-4866-8d16-d16a14c62d09",
        "colab": {
          "base_uri": "https://localhost:8080/",
          "height": 85
        }
      },
      "source": [
        "Prevelence_2=((sum(predictions_2))/len(predictions_2))\n",
        "Prevelence_3=((sum(predictions_3))/len(predictions_3))\n",
        "Prevelence_4=((sum(predictions_4))/len(predictions_4))\n",
        "Prevelence_5=((sum(predictions_5))/len(predictions_5))\n",
        "\n",
        "print(Prevelence_2)\n",
        "print(Prevelence_3)\n",
        "print(Prevelence_4)\n",
        "print(Prevelence_5)"
      ],
      "execution_count": 0,
      "outputs": [
        {
          "output_type": "stream",
          "text": [
            "0.02064327485380117\n",
            "0.010058479532163742\n",
            "0.0032748538011695906\n",
            "0.12461988304093567\n"
          ],
          "name": "stdout"
        }
      ]
    }
  ]
}